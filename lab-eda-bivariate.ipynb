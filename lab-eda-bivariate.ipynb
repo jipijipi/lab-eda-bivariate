{
 "cells": [
  {
   "cell_type": "code",
   "execution_count": 62,
   "metadata": {},
   "outputs": [],
   "source": [
    "import pandas as pd\n",
    "import matplotlib.pyplot as plt\n",
    "import seaborn as sns\n",
    "from scipy.stats import chi2_contingency\n",
    "from scipy import stats\n",
    "import numpy as np"
   ]
  },
  {
   "cell_type": "code",
   "execution_count": null,
   "metadata": {},
   "outputs": [],
   "source": [
    "#Data loading and preprocessing\n",
    "data = pd.read_csv('data/amz_uk_price_prediction_dataset.csv')\n",
    "display(data.head(),data.shape)\n"
   ]
  },
  {
   "cell_type": "code",
   "execution_count": null,
   "metadata": {},
   "outputs": [],
   "source": [
    "# Create a crosstab between the product category and the isBestSeller status.\n",
    "crosstab_raw = pd.crosstab(data['category'], data['isBestSeller'])\n",
    "display(crosstab_raw)\n",
    "\n",
    "crosstab = pd.crosstab(data['category'], data['isBestSeller'], normalize='index')\n",
    "crosstab = crosstab.sort_values(by=True, ascending=False)\n",
    "display(crosstab)\n",
    "\n",
    "# Best-seller status is more prevalent in the categories 'Grocery' and 'Smart Home Security & Lighting'.\n",
    "\n"
   ]
  },
  {
   "cell_type": "code",
   "execution_count": null,
   "metadata": {},
   "outputs": [],
   "source": [
    "# Conduct a Chi-square test to determine if the best-seller distribution is independent of the product category.\n",
    "chi2, p, dof, ex = chi2_contingency(crosstab_raw)\n",
    "\n",
    "print(f\"Chi2 Statistic: {chi2}\")\n",
    "print(f\"P-value: {p}\")\n",
    "print(f\"Degrees of Freedom: {dof}\")\n",
    "\n",
    "# The p-value is less than 0.05, the best-seller status is dependent on the product category.\n",
    "\n",
    "# Compute Cramér's V to understand the strength of association between best-seller status and category.\n",
    "n = data.shape[0]\n",
    "cramers_v = np.sqrt(chi2 / (n * min(crosstab_raw.shape) - 1))\n",
    "\n",
    "print(f\"Cramér's V: {cramers_v}\")\n",
    "\n",
    "# Cramér's V value indicates a low association between the category and best-seller status.\n",
    "\n"
   ]
  },
  {
   "cell_type": "code",
   "execution_count": null,
   "metadata": {},
   "outputs": [],
   "source": [
    "# Visualize the relationship between product categories and the best-seller status using a stacked bar chart.\n",
    "crosstab.head(100).plot(kind='bar', stacked=True, figsize=(12, 8))\n",
    "plt.xlabel('Product Category')\n",
    "plt.ylabel('Proportion')\n",
    "plt.legend(title='Best-Seller Status')\n",
    "plt.show()\n"
   ]
  },
  {
   "cell_type": "code",
   "execution_count": null,
   "metadata": {},
   "outputs": [],
   "source": [
    "# Remove outliers based on price\n",
    "Q1 = data['price'].quantile(0.25)\n",
    "Q3 = data['price'].quantile(0.75)\n",
    "IQR = Q3 - Q1\n",
    "lower_bound = Q1 - 1.5 * IQR\n",
    "upper_bound = Q3 + 1.5 * IQR\n",
    "\n",
    "# Filter the data to remove outliers\n",
    "filtered_data = data[(data['price'] >= lower_bound) & (data['price'] <= upper_bound)]\n",
    "display(filtered_data.shape)\n"
   ]
  },
  {
   "cell_type": "code",
   "execution_count": null,
   "metadata": {},
   "outputs": [],
   "source": [
    "# Filter the top 20 categories based on count\n",
    "top_20_categories = data['category'].value_counts().nlargest(20).index\n",
    "print(top_20_categories)\n",
    "filtered_top_20_data = filtered_data[filtered_data['category'].isin(top_20_categories)]\n",
    "\n",
    "# Create a violin plot to visualize the distribution of price across different product categories\n",
    "plt.figure(figsize=(15, 10))\n",
    "sns.violinplot(x='category', y='price', data=filtered_top_20_data)\n",
    "plt.xticks(rotation=90)\n",
    "plt.xlabel('Product Category')\n",
    "plt.ylabel('Price')\n",
    "plt.show()\n",
    "\n",
    "# Determine the product category with the highest median price\n",
    "median_prices = data.groupby('category')['price'].median().sort_values(ascending=False)\n",
    "display(median_prices)\n",
    "highest_median_category = median_prices.idxmax()\n",
    "highest_median_price = median_prices.max()\n",
    "\n",
    "print(f\"The product category with the highest median price is '{highest_median_category}' with a median price of {highest_median_price}.\")\n"
   ]
  },
  {
   "cell_type": "code",
   "execution_count": null,
   "metadata": {},
   "outputs": [],
   "source": [
    "# Calculate the average price for each product category\n",
    "average_prices = data.groupby('category')['price'].mean().sort_values(ascending=False)\n",
    "\n",
    "# Get the top 10 product categories based on count\n",
    "top_10_categories = data['category'].value_counts().nlargest(10).index\n",
    "\n",
    "# Filter the average prices for the top 10 categories\n",
    "top_10_average_prices = average_prices[top_10_categories]\n",
    "\n",
    "# Plot the bar chart\n",
    "plt.figure(figsize=(12, 8))\n",
    "top_10_average_prices.plot(kind='bar')\n",
    "plt.xlabel('Product Category')\n",
    "plt.ylabel('Average Price')\n",
    "plt.show()\n",
    "\n",
    "# Determine the product category with the highest average price\n",
    "highest_avg_price_category = top_10_average_prices.idxmax()\n",
    "highest_avg_price = top_10_average_prices.max()\n",
    "\n",
    "print(f\"The product category with the highest average price is '{highest_avg_price_category}' with an average price of {highest_avg_price:.2f}.\")\n"
   ]
  },
  {
   "cell_type": "code",
   "execution_count": null,
   "metadata": {},
   "outputs": [],
   "source": [
    "ratings = data[data['stars'] > 0]\n",
    "\n",
    "filtered_top_10_ratings = ratings[data['category'].isin(top_10_categories)]\n",
    "# Create side-by-side box plots to visualize the distribution of product ratings across different product categories\n",
    "plt.figure(figsize=(15, 10))\n",
    "sns.boxplot(x='category', y='stars', data=filtered_top_10_ratings)\n",
    "plt.xticks(rotation=90)\n",
    "plt.xlabel('Product Category')\n",
    "plt.ylabel('Rating')\n",
    "plt.show()\n",
    "\n",
    "# Determine the product category with the highest median rating\n",
    "median_ratings = data.groupby('category')['stars'].median().sort_values(ascending=False)\n",
    "highest_median_rating_category = median_ratings.idxmax()\n",
    "highest_median_rating = median_ratings.max()\n",
    "\n",
    "print(f\"The product category with the highest median rating is '{highest_median_rating_category}' with a median rating of {highest_median_rating}.\")\n"
   ]
  },
  {
   "cell_type": "code",
   "execution_count": null,
   "metadata": {},
   "outputs": [],
   "source": [
    "# Get the top 10 product categories based on count\n",
    "top_10_categories = data['category'].value_counts().nlargest(10).index\n",
    "\n",
    "# Filter the average prices for the top 10 categories\n",
    "top_10_average_prices = average_prices[top_10_categories]\n",
    "\n",
    "# Plot the bar chart\n",
    "plt.figure(figsize=(12, 8))\n",
    "top_10_average_prices.plot(kind='bar')\n",
    "plt.xlabel('Product Category')\n",
    "plt.ylabel('Average Price')\n",
    "plt.show()\n",
    "\n",
    "# Determine the product category with the highest average price\n",
    "highest_avg_price_category = top_10_average_prices.idxmax()\n",
    "highest_avg_price = top_10_average_prices.max()\n",
    "\n",
    "print(f\"The product category with the highest average price is '{highest_avg_price_category}' with an average price of {highest_avg_price:.2f}.\")\n",
    "\n",
    "\n",
    "# Create side-by-side box plots to visualize the distribution of product ratings across different product categories\n",
    "plt.figure(figsize=(15, 10))\n",
    "sns.boxplot(x='category', y='stars', data=filtered_top_10_ratings)\n",
    "plt.xticks(rotation=90)\n",
    "plt.xlabel('Product Category')\n",
    "plt.ylabel('Rating')\n",
    "plt.show()\n",
    "\n",
    "# Determine the product category with the highest median rating\n",
    "median_ratings = ratings.groupby('category')['stars'].median().sort_values(ascending=False)\n",
    "highest_median_rating_category = median_ratings.idxmax()\n",
    "highest_median_rating = median_ratings.max()\n",
    "\n",
    "print(f\"The product category with the highest median rating is '{highest_median_rating_category}' with a median rating of {highest_median_rating}.\")\n"
   ]
  },
  {
   "cell_type": "code",
   "execution_count": null,
   "metadata": {},
   "outputs": [],
   "source": [
    "# Calculate the correlation coefficient between price and stars\n",
    "correlation_coefficient = ratings['price'].corr(ratings['stars'])\n",
    "print(f\"Correlation Coefficient between price and stars: {correlation_coefficient}\")\n",
    "# The correlation coefficient is close to zero so weak\n",
    "\n"
   ]
  },
  {
   "cell_type": "code",
   "execution_count": null,
   "metadata": {},
   "outputs": [],
   "source": [
    "\n",
    "# Create a scatter plot to visualize the relationship between product rating and price\n",
    "plt.figure(figsize=(12, 8))\n",
    "\n",
    "# Exclude non-numeric columns from the dataframe\n",
    "numeric_data = ratings[['price', 'stars', 'reviews','boughtInLastMonth']]\n",
    "display(numeric_data.head())\n",
    "# Calculate the correlation matrix\n",
    "correlation_matrix = numeric_data.corr()\n",
    "\n",
    "# Create a heatmap to visualize the correlation matrix\n",
    "plt.figure(figsize=(12, 8))\n",
    "sns.heatmap(correlation_matrix, annot=True, cmap='coolwarm', fmt='.2f')\n",
    "plt.show()\n",
    "\n",
    "# Create a QQ plot to examine if product prices follow a normal distribution\n",
    "plt.figure(figsize=(12, 8))\n",
    "stats.probplot(ratings['price'], dist=\"norm\", plot=plt)\n",
    "plt.show()"
   ]
  }
 ],
 "metadata": {
  "kernelspec": {
   "display_name": "base",
   "language": "python",
   "name": "python3"
  },
  "language_info": {
   "codemirror_mode": {
    "name": "ipython",
    "version": 3
   },
   "file_extension": ".py",
   "mimetype": "text/x-python",
   "name": "python",
   "nbconvert_exporter": "python",
   "pygments_lexer": "ipython3",
   "version": "3.12.4"
  }
 },
 "nbformat": 4,
 "nbformat_minor": 2
}
